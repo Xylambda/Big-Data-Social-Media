{
 "cells": [
  {
   "cell_type": "markdown",
   "metadata": {},
   "source": [
    "### Normalization\n",
    "This technique is used to adjust the values on different scales. It makes it easier to manipulate the values and the results will be more accurate."
   ]
  },
  {
   "cell_type": "code",
   "execution_count": 1,
   "metadata": {},
   "outputs": [],
   "source": [
    "import numpy as np\n",
    "import pandas as pd\n",
    "\n",
    "from sklearn import preprocessing"
   ]
  },
  {
   "cell_type": "code",
   "execution_count": 2,
   "metadata": {},
   "outputs": [],
   "source": [
    "my_data = [1267, 7, 5432, 987, 1703, 123, 9098, 4072, 540, 3078, 54]"
   ]
  },
  {
   "cell_type": "code",
   "execution_count": 3,
   "metadata": {},
   "outputs": [
    {
     "name": "stdout",
     "output_type": "stream",
     "text": [
      "Original data:  [1267, 7, 5432, 987, 1703, 123, 9098, 4072, 540, 3078, 54]\n",
      "-------------\n",
      "Logarithmic Transformation:  [7.14440718 1.94591015 8.60006267 6.89467004 7.44014668 4.81218436\n",
      " 9.11580989 8.31188956 6.29156914 8.03203531 3.98898405]\n"
     ]
    }
   ],
   "source": [
    "# ---- Logarithmic Transformation ----\n",
    "log_data = np.log(my_data)\n",
    "\n",
    "print(\"Original data: \", my_data)\n",
    "print(\"-------------\")\n",
    "print(\"Logarithmic Transformation: \", log_data)"
   ]
  },
  {
   "cell_type": "code",
   "execution_count": 4,
   "metadata": {},
   "outputs": [
    {
     "name": "stdout",
     "output_type": "stream",
     "text": [
      "Original data:  [1267, 7, 5432, 987, 1703, 123, 9098, 4072, 540, 3078, 54]\n",
      "-------------\n",
      "Normalized data:  [0.10553758940384012, 0.0005830806044411056, 0.45247054904629797, 0.08221436522619589, 0.14185518133760042, 0.010245559192322284, 0.7578381913150255, 0.3391863173263117, 0.044980503771171, 0.25638887149567474, 0.0044980503771171005]\n"
     ]
    }
   ],
   "source": [
    "# ---- Normalization: values between 0 and 1 ----\n",
    "# This function expects a 2D array: [my_data]\n",
    "normalized_data = preprocessing.normalize([my_data])\n",
    "\n",
    "# Remove 1 dimension\n",
    "normalized_data_1D = [i for i in normalized_data[0]]\n",
    "\n",
    "print(\"Original data: \", my_data)\n",
    "print(\"-------------\")\n",
    "print(\"Normalized data: \", normalized_data_1D)"
   ]
  },
  {
   "cell_type": "code",
   "execution_count": 5,
   "metadata": {},
   "outputs": [
    {
     "name": "stdout",
     "output_type": "stream",
     "text": [
      "Original data:  [1267, 7, 5432, 987, 1703, 123, 9098, 4072, 540, 3078, 54]\n",
      "-------------\n",
      "Standardized data:  [-0.41634325 -0.88080859  1.11897275 -0.51955777 -0.25562349 -0.83804829\n",
      "  2.47034572  0.61764508 -0.68433238  0.25123353 -0.8634833 ]\n"
     ]
    }
   ],
   "source": [
    "# ---- Standardization: mean: 0, s.dev: 1 ----\n",
    "standardized_data = preprocessing.scale(my_data)\n",
    "\n",
    "print(\"Original data: \", my_data)\n",
    "print(\"-------------\")\n",
    "print(\"Standardized data: \", standardized_data)"
   ]
  },
  {
   "cell_type": "code",
   "execution_count": 6,
   "metadata": {},
   "outputs": [
    {
     "data": {
      "text/plain": [
       "0     -0.532868\n",
       "1      2.092860\n",
       "2      0.239405\n",
       "3      0.393859\n",
       "4     -0.532868\n",
       "5      0.239405\n",
       "6     -1.305142\n",
       "7     -0.069505\n",
       "8     -0.378414\n",
       "9      0.084950\n",
       "10    -0.069505\n",
       "11    -0.069505\n",
       "12    -0.069505\n",
       "13     0.239405\n",
       "14     0.239405\n",
       "15     0.702769\n",
       "16     0.239405\n",
       "17     0.239405\n",
       "18    -0.532868\n",
       "19     1.629496\n",
       "20    -1.305142\n",
       "21     0.239405\n",
       "22    -1.305142\n",
       "23    -0.069505\n",
       "24    -0.532868\n",
       "25    -1.305142\n",
       "26    -0.532868\n",
       "27    -1.150687\n",
       "28    -0.532868\n",
       "29     0.239405\n",
       "         ...   \n",
       "710   -0.069505\n",
       "711    2.092860\n",
       "712   -0.841778\n",
       "713   -0.996232\n",
       "714    1.783951\n",
       "715   -0.532868\n",
       "716    2.092860\n",
       "717   -0.996232\n",
       "718    0.548314\n",
       "719   -0.996232\n",
       "720    0.084950\n",
       "721   -0.841778\n",
       "722    0.084950\n",
       "723    0.084950\n",
       "724   -0.841778\n",
       "725    1.011678\n",
       "726   -0.841778\n",
       "727    3.328497\n",
       "728    0.084950\n",
       "729    3.328497\n",
       "730   -0.532868\n",
       "731    0.084950\n",
       "732   -1.305142\n",
       "733   -1.305142\n",
       "734   -0.841778\n",
       "735   -0.532868\n",
       "736    0.084950\n",
       "737    0.548314\n",
       "738    0.393859\n",
       "739    2.556224\n",
       "Name: Age, Length: 740, dtype: float64"
      ]
     },
     "execution_count": 6,
     "metadata": {},
     "output_type": "execute_result"
    }
   ],
   "source": [
    "# ===================== EXAMPLE WITH DATASET =====================\n",
    "absenteeism_df = pd.read_csv(\"Absenteeism_at_work.csv\", sep = \";\")\n",
    "\n",
    "absenteeism_df[\"Age\"] = preprocessing.scale(absenteeism_df[\"Age\"].values)\n",
    "\n",
    "absenteeism_df[\"Age\"]"
   ]
  },
  {
   "cell_type": "markdown",
   "metadata": {},
   "source": [
    "### Credits\n",
    "* [Scikit](https://scikit-learn.org/stable/modules/preprocessing.html)\n",
    "* [Aletta Smits](https://nl.linkedin.com/in/alettasmits)\n",
    "* [Robert R.F. DeFilippi](https://medium.com/@rrfd/standardize-or-normalize-examples-in-python-e3f174b65dfc)"
   ]
  },
  {
   "cell_type": "code",
   "execution_count": null,
   "metadata": {},
   "outputs": [],
   "source": []
  }
 ],
 "metadata": {
  "kernelspec": {
   "display_name": "Python 3",
   "language": "python",
   "name": "python3"
  },
  "language_info": {
   "codemirror_mode": {
    "name": "ipython",
    "version": 3
   },
   "file_extension": ".py",
   "mimetype": "text/x-python",
   "name": "python",
   "nbconvert_exporter": "python",
   "pygments_lexer": "ipython3",
   "version": "3.7.3"
  }
 },
 "nbformat": 4,
 "nbformat_minor": 2
}
